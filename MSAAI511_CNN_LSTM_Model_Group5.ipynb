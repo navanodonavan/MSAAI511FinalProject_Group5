{
 "cells": [
  {
   "cell_type": "code",
   "execution_count": 1,
   "id": "f5ff699e",
   "metadata": {},
   "outputs": [
    {
     "name": "stdout",
     "output_type": "stream",
     "text": [
      "Python version\n",
      "3.11.10 | packaged by Anaconda, Inc. | (main, Oct  3 2024, 07:22:26) [MSC v.1929 64 bit (AMD64)]\n",
      "sys.version_info(major=3, minor=11, micro=10, releaselevel='final', serial=0)\n",
      "\n",
      "Pytorch version 2.5.1\n"
     ]
    }
   ],
   "source": [
    "import pretty_midi\n",
    "import numpy as np\n",
    "import pandas as pd\n",
    "import matplotlib.pyplot as plt\n",
    "from sklearn.preprocessing import MinMaxScaler\n",
    "from sklearn.model_selection import train_test_split\n",
    "from sklearn.metrics import mean_squared_error\n",
    "from sklearn.preprocessing import LabelEncoder\n",
    "import sys\n",
    "import os\n",
    "from pathlib import Path\n",
    "from sklearn.metrics import classification_report\n",
    "from sklearn.metrics import confusion_matrix, ConfusionMatrixDisplay\n",
    "\n",
    "# Import PyTorch\n",
    "import torch\n",
    "import torch.nn as nn\n",
    "from torch.utils.data import Dataset, DataLoader\n",
    "import torch.optim as optim\n",
    "\n",
    "print(\"Python version\")\n",
    "print(sys.version)\n",
    "print(sys.version_info)\n",
    "\n",
    "print(f\"\\nPytorch version {torch.__version__}\")\n",
    "\n",
    "# Use CUDA if available, else CPU\n",
    "device = torch.device(\"cuda\" if torch.cuda.is_available() else \"cpu\")"
   ]
  },
  {
   "cell_type": "code",
   "execution_count": 2,
   "id": "a3463f94",
   "metadata": {},
   "outputs": [
    {
     "name": "stdout",
     "output_type": "stream",
     "text": [
      "['Bach', 'Beethoven', 'Chopin', 'Mozart']\n",
      "Bach number of midi files=369\n",
      "Beethoven number of midi files=213\n",
      "Chopin number of midi files=136\n",
      "Mozart number of midi files=257\n"
     ]
    }
   ],
   "source": [
    "# parse music folder to identify .mid files under each composer\n",
    "dir_name = 'music'\n",
    "\n",
    "artist_list = []\n",
    "file_list = {}\n",
    "\n",
    "directory_path = Path('music')\n",
    "for file_path in directory_path.iterdir():\n",
    "    if file_path.is_file():\n",
    "        print(file_path)\n",
    "    else:\n",
    "        artist_list.append(file_path.name)\n",
    "\n",
    "print(artist_list)\n",
    "\n",
    "for artist_name in artist_list:\n",
    "    file_list[artist_name] = []\n",
    "    directory_path = Path(os.path.join('music', artist_name))\n",
    "    for file_path in directory_path.iterdir():\n",
    "        if file_path.is_file():\n",
    "            if '.mid' in str(file_path):\n",
    "                file_list[artist_name].append(str(file_path))\n",
    "        else:\n",
    "            directory_path_sub = Path(os.path.join('music', artist_name, file_path.name))\n",
    "            for file_path2 in directory_path_sub.iterdir():\n",
    "                if file_path2.is_file():\n",
    "                    if '.mid' in str(file_path2):\n",
    "                        file_list[artist_name].append(str(file_path2))\n",
    "                else:\n",
    "                    directory_path_sub_sub = Path(os.path.join('music', artist_name, file_path.name, file_path2.name))\n",
    "                    for file_path3 in directory_path_sub_sub.iterdir():\n",
    "                        if file_path3.is_file():\n",
    "                            if '.mid' in str(file_path3):\n",
    "                                file_list[artist_name].append(str(file_path3))\n",
    "                        else:\n",
    "                            print(file_path3)\n",
    "\n",
    "for artist_name in artist_list:\n",
    "    print(f\"{artist_name} number of midi files={len(file_list[artist_name])}\")"
   ]
  },
  {
   "cell_type": "code",
   "execution_count": 3,
   "id": "dcc159a1",
   "metadata": {},
   "outputs": [],
   "source": [
    "# convert .mid file to numerical matrix (piano roll)\n",
    "def midi_to_piano_roll(midi_file_path, fs=100, min_pitch=0, max_pitch=127):\n",
    "\n",
    "    try:\n",
    "        midi_data = pretty_midi.PrettyMIDI(midi_file_path)\n",
    "    except Exception as e:\n",
    "        print(f\"Error loading MIDI file {midi_file_path}: {e}\")\n",
    "        return None\n",
    "\n",
    "    # Get piano roll for all instruments\n",
    "    piano_roll = midi_data.get_piano_roll(fs=fs)\n",
    "\n",
    "    # Crop to desired pitch range\n",
    "    piano_roll = piano_roll[min_pitch:max_pitch+1, :]\n",
    "\n",
    "    # Normalize velocity \n",
    "    piano_roll = piano_roll / 127.0\n",
    "\n",
    "    return piano_roll"
   ]
  },
  {
   "cell_type": "code",
   "execution_count": 5,
   "id": "22c927d5-5118-4568-ac7c-ebc64962323c",
   "metadata": {},
   "outputs": [],
   "source": [
    "# compute pitch class histogram and note density features\n",
    "def compute_pitch_class_histogram_and_density(midi_data, sequence_start, sequence_end):\n",
    "    notes = []\n",
    "    for instrument in midi_data.instruments:\n",
    "        notes.extend(instrument.notes)\n",
    "\n",
    "    seq_notes = [note for note in notes if sequence_start <= note.start < sequence_end]\n",
    "\n",
    "    pitch_classes = [note.pitch % 12 for note in seq_notes]\n",
    "    histogram = np.zeros(12)\n",
    "    for pc in pitch_classes:\n",
    "        histogram[pc] += 1\n",
    "    if histogram.sum() > 0:\n",
    "        histogram = histogram / histogram.sum()\n",
    "\n",
    "    duration = sequence_end - sequence_start\n",
    "    density = len(seq_notes) / duration if duration > 0 else 0\n",
    "\n",
    "    return histogram, density"
   ]
  },
  {
   "cell_type": "code",
   "execution_count": 6,
   "id": "8bf11667-c74a-4a57-855a-457f0006cbbd",
   "metadata": {},
   "outputs": [],
   "source": [
    "def extract_additional_features(sequence):\n",
    "    # 1. Pitch class histogram\n",
    "    pitch_classes = np.arange(sequence.shape[1]) % 12\n",
    "    histogram = np.zeros(12)\n",
    "    for i in range(12):\n",
    "        histogram[i] = sequence[:, pitch_classes == i].sum()\n",
    "    histogram /= (sequence.sum() + 1e-5) \n",
    "\n",
    "    # 2. Note density\n",
    "    note_density = np.mean(sequence.sum(axis=1)) \n",
    "\n",
    "    return np.concatenate([histogram, [note_density]])  "
   ]
  },
  {
   "cell_type": "code",
   "execution_count": 7,
   "id": "87acf1b2",
   "metadata": {},
   "outputs": [],
   "source": [
    "# transform raw .mid files to sequences\n",
    "# adding transposition augmentation\n",
    "def prepare_data_for_lstm(sequence_length, fs=100, min_pitch=21, max_pitch=108,overlap=0, transpose_range=(-2, 2)): \n",
    "    all_sequences = []\n",
    "    all_labels = []\n",
    "    label_map = {}\n",
    "\n",
    "    n_pitches = max_pitch - min_pitch + 1\n",
    "\n",
    "    # start label ID at zero\n",
    "    current_label = 0\n",
    "\n",
    "    for artist_name in artist_list:\n",
    "        print(f\"Starting {artist_name} with {len(file_list[artist_name])} midi files\")\n",
    "        midi_files = file_list[artist_name]\n",
    "        label_map[current_label] = artist_name\n",
    "        \n",
    "        for midi_file in midi_files:\n",
    "                piano_roll = midi_to_piano_roll(str(midi_file), fs=fs, min_pitch=min_pitch, max_pitch=max_pitch)\n",
    "                if piano_roll is None:\n",
    "                    continue\n",
    "\n",
    "                # Transpose piano_roll to (time_steps, pitches) for LSTM\n",
    "                piano_roll = piano_roll.T\n",
    "\n",
    "                # Segment the piano roll into sequences\n",
    "                num_time_steps = piano_roll.shape[0]\n",
    "                step_size = sequence_length - overlap\n",
    "                \n",
    "                for i in range(0, num_time_steps - sequence_length + 1, step_size):\n",
    "                    original_seq = piano_roll[i:i + sequence_length, :]\n",
    "                    # transposition augmentation\n",
    "                    for shift in range(transpose_range[0], transpose_range[1] + 1):\n",
    "                        if shift == 0:\n",
    "                            transposed_seq = original_seq\n",
    "                        else:\n",
    "                            transposed_seq = np.roll(original_seq, shift, axis=1)\n",
    "\n",
    "                            if shift > 0:\n",
    "                                transposed_seq[:, :shift] = 0\n",
    "                            else:\n",
    "                                transposed_seq[:, shift:] = 0\n",
    "\n",
    "                        features = extract_additional_features(transposed_seq)\n",
    "                        features = np.repeat(features[np.newaxis, :], sequence_length, axis=0)\n",
    "                        combined_input = np.concatenate([transposed_seq, features], axis=1)\n",
    "                        \n",
    "                        all_sequences.append(combined_input)\n",
    "                        all_labels.append(current_label)\n",
    "\n",
    "        if not all_sequences:\n",
    "            print(\"No sequences processed. Check your MIDI file paths and parameters.\")\n",
    "            return None, None\n",
    "        # Increment label Id\n",
    "        current_label += 1\n",
    "\n",
    "    X = np.array(all_sequences)\n",
    "    y = np.array(all_labels)\n",
    "\n",
    "    print(f\"\\nTotal sequences: {X.shape[0]}\")\n",
    "    print(f\"Input shape (X): {X.shape} (samples, sequence_length, pitches)\")\n",
    "    print(f\"Output shape (y): {y.shape} (samples, num_classes)\")\n",
    "\n",
    "    return X, y, label_map"
   ]
  },
  {
   "cell_type": "code",
   "execution_count": 8,
   "id": "0cc7c93e",
   "metadata": {},
   "outputs": [
    {
     "name": "stdout",
     "output_type": "stream",
     "text": [
      "Preparing data...\n",
      "Starting Bach with 369 midi files\n"
     ]
    },
    {
     "name": "stderr",
     "output_type": "stream",
     "text": [
      "C:\\Users\\Donva\\anaconda3\\Lib\\site-packages\\pretty_midi\\pretty_midi.py:100: RuntimeWarning: Tempo, Key or Time signature change events found on non-zero tracks.  This is not a valid type 0 or type 1 MIDI file.  Tempo, Key or Time Signature may be wrong.\n",
      "  warnings.warn(\n"
     ]
    },
    {
     "name": "stdout",
     "output_type": "stream",
     "text": [
      "Starting Beethoven with 213 midi files\n",
      "Error loading MIDI file music\\Beethoven\\Anhang 14-3.mid: Could not decode key with 3 flats and mode 255\n",
      "Starting Chopin with 136 midi files\n",
      "Starting Mozart with 257 midi files\n",
      "Error loading MIDI file music\\Mozart\\K281 Piano Sonata n03 3mov.mid: Could not decode key with 2 flats and mode 2\n",
      "\n",
      "Total sequences: 165720\n",
      "Input shape (X): (165720, 100, 101) (samples, sequence_length, pitches)\n",
      "Output shape (y): (165720,) (samples, num_classes)\n"
     ]
    }
   ],
   "source": [
    "# --- Configuration ---\n",
    "SEQUENCE_LENGTH = 100 # Number of time steps in each input sequence (corresponds to 1 second if fs=100)\n",
    "FS = 10 # temporal resolution, increasing fs captures finer rhythmic differences\n",
    "MIN_PITCH = 21 # A0\n",
    "MAX_PITCH = 108 # C8\n",
    "OVERLAP = 0 # Overlap between sequences to capture more context\n",
    "\n",
    "# --- 1. Prepare Data ---\n",
    "print(\"Preparing data...\")\n",
    "X, y, label_map = prepare_data_for_lstm(sequence_length=SEQUENCE_LENGTH, fs=FS, min_pitch=MIN_PITCH, max_pitch=MAX_PITCH, overlap=OVERLAP)"
   ]
  },
  {
   "cell_type": "code",
   "execution_count": 9,
   "id": "00425345-fe5d-41f9-bb06-cb2c532018e3",
   "metadata": {},
   "outputs": [
    {
     "name": "stdout",
     "output_type": "stream",
     "text": [
      "\n",
      "Label to Composer Mapping:\n",
      "  Label 0: Bach\n",
      "  Label 1: Beethoven\n",
      "  Label 2: Chopin\n",
      "  Label 3: Mozart\n"
     ]
    }
   ],
   "source": [
    "# ouput label mapping for visibility\n",
    "print(\"\\nLabel to Composer Mapping:\")\n",
    "for label, composer in label_map.items():\n",
    "    print(f\"  Label {label}: {composer}\")"
   ]
  },
  {
   "cell_type": "code",
   "execution_count": 10,
   "id": "4b1d95f7-8788-42ed-a2a3-c864044abe84",
   "metadata": {},
   "outputs": [],
   "source": [
    "# CNN-LSTM hyrbid model\n",
    "class CNNLSTMClassifier(nn.Module):\n",
    "    def __init__(self, input_size, conv_out_channels, kernel_size,\n",
    "                 lstm_hidden_size, lstm_num_layers, output_size,\n",
    "                 dropout_prob=0.5, bidirectional=True):\n",
    "        super(CNNLSTMClassifier, self).__init__()\n",
    "\n",
    "        self.conv1d = nn.Conv1d(in_channels=input_size, \n",
    "                                out_channels=conv_out_channels,\n",
    "                                kernel_size=kernel_size,\n",
    "                                padding=kernel_size // 2)\n",
    "        \n",
    "        self.relu = nn.ReLU()\n",
    "        self.dropout = nn.Dropout(dropout_prob)\n",
    "\n",
    "        lstm_input_size = conv_out_channels\n",
    "        self.bidirectional = bidirectional\n",
    "        self.lstm = nn.LSTM(input_size=lstm_input_size,\n",
    "                            hidden_size=lstm_hidden_size,\n",
    "                            num_layers=lstm_num_layers,\n",
    "                            batch_first=True,\n",
    "                            dropout=dropout_prob if lstm_num_layers > 1 else 0,\n",
    "                            bidirectional=bidirectional)\n",
    "        \n",
    "        fc_input_size = lstm_hidden_size * (2 if bidirectional else 1)\n",
    "        self.fc = nn.Linear(fc_input_size, output_size)\n",
    "\n",
    "    def forward(self, x):\n",
    "        x = x.permute(0, 2, 1) \n",
    "        x = self.conv1d(x)\n",
    "        x = self.relu(x)\n",
    "        x = self.dropout(x)\n",
    "        x = x.permute(0, 2, 1) \n",
    "\n",
    "        h0 = torch.zeros(self.lstm.num_layers * (2 if self.bidirectional else 1),\n",
    "                         x.size(0), self.lstm.hidden_size).to(x.device)\n",
    "        c0 = torch.zeros(self.lstm.num_layers * (2 if self.bidirectional else 1),\n",
    "                         x.size(0), self.lstm.hidden_size).to(x.device)\n",
    "\n",
    "        out, _ = self.lstm(x, (h0, c0))\n",
    "        out = self.dropout(out[:, -1, :])\n",
    "        out = self.fc(out)\n",
    "        return out"
   ]
  },
  {
   "cell_type": "code",
   "execution_count": 11,
   "id": "7b0fb7e5",
   "metadata": {},
   "outputs": [],
   "source": [
    "# create custom dataset\n",
    "class CustomDataset(Dataset):\n",
    "    def __init__(self, sequences, labels):\n",
    "        self.sequences = sequences\n",
    "        self.labels = labels\n",
    "\n",
    "    def __len__(self):\n",
    "        return len(self.sequences)\n",
    "\n",
    "    def __getitem__(self, idx):\n",
    "        return self.sequences[idx], self.labels[idx]"
   ]
  },
  {
   "cell_type": "code",
   "execution_count": 12,
   "id": "24c99b6d",
   "metadata": {},
   "outputs": [
    {
     "name": "stdout",
     "output_type": "stream",
     "text": [
      "Dataset sizes: Train=116004, Val=24858, Test=24858\n"
     ]
    }
   ],
   "source": [
    "# Hyperparameters\n",
    "num_layers = 2\n",
    "hidden_size = 64\n",
    "input_size = X.shape[2]\n",
    "output_size = len(artist_list)\n",
    "\n",
    "#split sequences into train/validation/test\n",
    "X_train, X_temp, y_train, y_temp = train_test_split(X, y, test_size=0.30, random_state=42, stratify=y)\n",
    "X_val, X_test, y_val, y_test = train_test_split(X_temp, y_temp, test_size=0.50, random_state=42, stratify=y_temp)\n",
    "\n",
    "print(f\"Dataset sizes: Train={len(X_train)}, Val={len(X_val)}, Test={len(X_test)}\")\n",
    "\n",
    "# Convert to tensors\n",
    "X_train = torch.from_numpy(X_train).float().to(device)\n",
    "y_train = torch.from_numpy(y_train).long().to(device)\n",
    "\n",
    "X_val = torch.from_numpy(X_val).float().to(device)\n",
    "y_val = torch.from_numpy(y_val).long().to(device)\n",
    "\n",
    "X_test = torch.from_numpy(X_test).float().to(device)\n",
    "y_test = torch.from_numpy(y_test).long().to(device)\n",
    "\n",
    "# Create DataLoaders\n",
    "train_dataset = CustomDataset(X_train, y_train)\n",
    "train_loader = DataLoader(train_dataset, batch_size=32, shuffle=True)\n",
    "val_dataset = CustomDataset(X_val, y_val)\n",
    "val_loader = DataLoader(val_dataset, batch_size=32, shuffle=False)\n",
    "test_dataset = CustomDataset(X_test, y_test)\n",
    "test_loader = DataLoader(test_dataset, batch_size=32, shuffle=False)"
   ]
  },
  {
   "cell_type": "code",
   "execution_count": 14,
   "id": "24b89ad5-f839-4fae-9b02-c30ecc386446",
   "metadata": {},
   "outputs": [],
   "source": [
    "# initialize CNN-LSTM Model\n",
    "model = CNNLSTMClassifier(\n",
    "    input_size=X.shape[2],     \n",
    "    conv_out_channels=64,\n",
    "    kernel_size=3,\n",
    "    lstm_hidden_size=64,\n",
    "    lstm_num_layers=2,\n",
    "    output_size=len(artist_list),\n",
    "    dropout_prob=0.5,\n",
    "    bidirectional=True\n",
    ").to(device)\n",
    "\n",
    "criterion = nn.CrossEntropyLoss()\n",
    "optimizer = torch.optim.Adam(model.parameters(), lr=0.001)"
   ]
  },
  {
   "cell_type": "code",
   "execution_count": 15,
   "id": "94769c52-74cf-499a-9e0e-192dbd5c7fa8",
   "metadata": {},
   "outputs": [
    {
     "name": "stdout",
     "output_type": "stream",
     "text": [
      "\n",
      "--- Training Model ---\n",
      "Epoch 1/30, Train Loss: 1.1452, Val Loss: 1.0128, Val Acc: 55.48%\n",
      "Epoch 2/30, Train Loss: 0.9529, Val Loss: 0.8541, Val Acc: 64.62%\n",
      "Epoch 3/30, Train Loss: 0.8386, Val Loss: 0.7775, Val Acc: 67.86%\n",
      "Epoch 4/30, Train Loss: 0.7647, Val Loss: 0.7114, Val Acc: 70.35%\n",
      "Epoch 5/30, Train Loss: 0.7174, Val Loss: 0.6968, Val Acc: 70.46%\n",
      "Epoch 6/30, Train Loss: 0.6836, Val Loss: 0.6511, Val Acc: 73.16%\n",
      "Epoch 7/30, Train Loss: 0.6563, Val Loss: 0.6405, Val Acc: 73.48%\n",
      "Epoch 8/30, Train Loss: 0.6277, Val Loss: 0.6213, Val Acc: 74.60%\n",
      "Epoch 9/30, Train Loss: 0.6040, Val Loss: 0.5855, Val Acc: 76.25%\n",
      "Epoch 10/30, Train Loss: 0.5813, Val Loss: 0.5758, Val Acc: 76.21%\n",
      "Epoch 11/30, Train Loss: 0.5654, Val Loss: 0.5756, Val Acc: 76.23%\n",
      "Epoch 12/30, Train Loss: 0.5487, Val Loss: 0.5496, Val Acc: 77.48%\n",
      "Epoch 13/30, Train Loss: 0.5322, Val Loss: 0.5309, Val Acc: 78.49%\n",
      "Epoch 14/30, Train Loss: 0.5188, Val Loss: 0.5346, Val Acc: 77.87%\n",
      "Epoch 15/30, Train Loss: 0.5039, Val Loss: 0.5283, Val Acc: 78.57%\n",
      "Epoch 16/30, Train Loss: 0.4935, Val Loss: 0.5411, Val Acc: 78.30%\n",
      "Epoch 17/30, Train Loss: 0.4829, Val Loss: 0.5156, Val Acc: 79.58%\n",
      "Epoch 18/30, Train Loss: 0.4683, Val Loss: 0.5206, Val Acc: 79.40%\n",
      "Epoch 19/30, Train Loss: 0.4582, Val Loss: 0.5139, Val Acc: 79.42%\n",
      "Epoch 20/30, Train Loss: 0.4496, Val Loss: 0.5093, Val Acc: 80.04%\n",
      "Epoch 21/30, Train Loss: 0.4417, Val Loss: 0.4875, Val Acc: 80.75%\n",
      "Epoch 22/30, Train Loss: 0.4329, Val Loss: 0.4851, Val Acc: 81.04%\n",
      "Epoch 23/30, Train Loss: 0.4241, Val Loss: 0.4967, Val Acc: 80.55%\n",
      "Epoch 24/30, Train Loss: 0.4179, Val Loss: 0.4860, Val Acc: 81.09%\n",
      "Epoch 25/30, Train Loss: 0.4105, Val Loss: 0.4661, Val Acc: 81.87%\n",
      "Epoch 26/30, Train Loss: 0.4033, Val Loss: 0.4611, Val Acc: 82.36%\n",
      "Epoch 27/30, Train Loss: 0.3964, Val Loss: 0.4875, Val Acc: 81.61%\n",
      "Epoch 28/30, Train Loss: 0.3907, Val Loss: 0.4868, Val Acc: 81.27%\n",
      "Epoch 29/30, Train Loss: 0.3874, Val Loss: 0.4797, Val Acc: 81.12%\n",
      "Epoch 30/30, Train Loss: 0.3789, Val Loss: 0.4721, Val Acc: 81.97%\n"
     ]
    }
   ],
   "source": [
    "# train LSTM Model\n",
    "num_epochs = 30\n",
    "train_loss_history = []\n",
    "val_loss_history = []\n",
    "\n",
    "print(\"\\n--- Training Model ---\")\n",
    "for epoch in range(num_epochs):\n",
    "    # --- Training Phase ---\n",
    "    model.train() \n",
    "    running_loss = 0.0\n",
    "    for batch_sequences, batch_labels in train_loader:\n",
    "        optimizer.zero_grad()\n",
    "        outputs = model(batch_sequences)\n",
    "        loss = criterion(outputs, batch_labels)\n",
    "        loss.backward()\n",
    "        optimizer.step()\n",
    "        running_loss += loss.item() * batch_sequences.size(0)\n",
    "\n",
    "    epoch_train_loss = running_loss / len(train_loader.dataset)\n",
    "\n",
    "    # --- Validation Phase ---\n",
    "    model.eval() \n",
    "    val_running_loss = 0.0\n",
    "    correct_val = 0\n",
    "    total_val = 0\n",
    "    with torch.no_grad(): \n",
    "        for val_sequences, val_labels in val_loader:\n",
    "            val_outputs = model(val_sequences)\n",
    "            val_loss = criterion(val_outputs, val_labels)\n",
    "            val_running_loss += val_loss.item() * val_sequences.size(0)\n",
    "\n",
    "            _, predicted_val = torch.max(val_outputs.data, 1)\n",
    "            total_val += val_labels.size(0)\n",
    "            correct_val += (predicted_val == val_labels).sum().item()\n",
    "\n",
    "    epoch_val_loss = val_running_loss / len(val_loader.dataset)\n",
    "    epoch_val_accuracy = 100 * correct_val / total_val\n",
    "\n",
    "    train_loss_history.append(epoch_train_loss)\n",
    "    val_loss_history.append(epoch_val_loss)\n",
    "\n",
    "    print(f'Epoch {epoch+1}/{num_epochs}, Train Loss: {epoch_train_loss:.4f}, '\n",
    "          f'Val Loss: {epoch_val_loss:.4f}, Val Acc: {epoch_val_accuracy:.2f}%')"
   ]
  },
  {
   "cell_type": "code",
   "execution_count": 16,
   "id": "cb341c2e-504f-40eb-a136-ddd52814f34c",
   "metadata": {},
   "outputs": [
    {
     "data": {
      "image/png": "[encoded data removed]",
      "text/plain": [
       "<Figure size 1000x600 with 1 Axes>"
      ]
     },
     "metadata": {},
     "output_type": "display_data"
    }
   ],
   "source": [
    "# plot training loss and validation loss to visualize optimal epochs for training\n",
    "plt.figure(figsize=(10, 6))\n",
    "plt.plot(train_loss_history, label='Train Loss', marker='o')\n",
    "plt.plot(val_loss_history, label='Validation Loss', marker='x')\n",
    "plt.xlabel(\"Epoch\")\n",
    "plt.ylabel(\"Loss\")\n",
    "plt.title(\"Training and Validation Loss over Epochs\")\n",
    "plt.legend()\n",
    "plt.grid(True)\n",
    "plt.tight_layout()\n",
    "plt.show()"
   ]
  },
  {
   "cell_type": "code",
   "execution_count": 17,
   "id": "18ac2b10-47da-4e60-92f7-0c8d21f1c216",
   "metadata": {},
   "outputs": [
    {
     "name": "stdout",
     "output_type": "stream",
     "text": [
      "\n",
      "--- Evaluating Model on Test Set ---\n",
      "Test Loss: 0.4822\n",
      "Test Accuracy: 81.68%\n"
     ]
    }
   ],
   "source": [
    "# run model against test holdout data\n",
    "print(\"\\n--- Evaluating Model on Test Set ---\")\n",
    "model.eval()\n",
    "test_running_loss = 0.0\n",
    "correct_test = 0\n",
    "total_test = 0\n",
    "\n",
    "all_preds = []\n",
    "all_labels = []\n",
    "\n",
    "with torch.no_grad():\n",
    "    for test_sequences, test_labels in test_loader:\n",
    "        test_outputs = model(test_sequences)\n",
    "        test_loss = criterion(test_outputs, test_labels)\n",
    "        test_running_loss += test_loss.item() * test_sequences.size(0)\n",
    "\n",
    "        _, predicted = torch.max(test_outputs.data, 1)\n",
    "        total_test += test_labels.size(0)\n",
    "        correct_test += (predicted == test_labels).sum().item()\n",
    "\n",
    "        all_preds.extend(predicted.cpu().numpy())\n",
    "        all_labels.extend(test_labels.cpu().numpy())\n",
    "\n",
    "test_accuracy = 100 * correct_test / total_test\n",
    "test_loss = test_running_loss / total_test\n",
    "\n",
    "print(f'Test Loss: {test_loss:.4f}')\n",
    "print(f'Test Accuracy: {test_accuracy:.2f}%')"
   ]
  },
  {
   "cell_type": "code",
   "execution_count": 18,
   "id": "0de66b1e-59cd-4c8f-a7c1-aeeec15eff8e",
   "metadata": {},
   "outputs": [
    {
     "name": "stdout",
     "output_type": "stream",
     "text": [
      "\n",
      "Classification Report:\n",
      "              precision    recall  f1-score   support\n",
      "\n",
      "        Bach       0.89      0.91      0.90      7380\n",
      "   Beethoven       0.84      0.70      0.76      7704\n",
      "      Chopin       0.85      0.78      0.81      2200\n",
      "      Mozart       0.73      0.85      0.79      7574\n",
      "\n",
      "    accuracy                           0.82     24858\n",
      "   macro avg       0.83      0.81      0.82     24858\n",
      "weighted avg       0.82      0.82      0.82     24858\n",
      "\n"
     ]
    }
   ],
   "source": [
    "# output classification report on model evaluation\n",
    "print(\"\\nClassification Report:\")\n",
    "print(classification_report(all_labels, all_preds, target_names=[label_map[i] for i in sorted(label_map)]))"
   ]
  },
  {
   "cell_type": "code",
   "execution_count": 19,
   "id": "ca0198e8-d7fa-4cfa-85b2-42b5fe329d7b",
   "metadata": {},
   "outputs": [
    {
     "data": {
      "image/png": "[encoded data removed]",
      "text/plain": [
       "<Figure size 1000x800 with 2 Axes>"
      ]
     },
     "metadata": {},
     "output_type": "display_data"
    }
   ],
   "source": [
    "# output confusion matrix on model evaluation\n",
    "cm = confusion_matrix(all_labels, all_preds)\n",
    "class_names = [label_map[i] for i in sorted(label_map)]\n",
    "\n",
    "plt.figure(figsize=(10, 8))\n",
    "disp = ConfusionMatrixDisplay(confusion_matrix=cm, display_labels=class_names)\n",
    "disp.plot(cmap='Blues', xticks_rotation=45, ax=plt.gca())\n",
    "plt.title(\"Confusion Matrix - Composer Classification\")\n",
    "plt.grid(False)\n",
    "plt.tight_layout()\n",
    "plt.show()"
   ]
  },
  {
   "cell_type": "code",
   "execution_count": 20,
   "id": "c5a055ac",
   "metadata": {},
   "outputs": [
    {
     "name": "stdout",
     "output_type": "stream",
     "text": [
      "\n",
      "--- Evaluating Model on Test Set (Per Composer) ---\n",
      "Test Loss: 0.4822\n",
      "Test Accuracy: 81.68%\n",
      "\n",
      "Per-Composer Accuracy:\n",
      "  Bach             Accuracy: 91.02% (6717/7380)\n",
      "  Beethoven        Accuracy: 70.33% (5418/7704)\n",
      "  Chopin           Accuracy: 77.82% (1712/2200)\n",
      "  Mozart           Accuracy: 85.27% (6458/7574)\n"
     ]
    }
   ],
   "source": [
    "# output model evaluation on test data by composer\n",
    "print(\"\\n--- Evaluating Model on Test Set (Per Composer) ---\")\n",
    "model.eval()\n",
    "test_running_loss = 0.0\n",
    "correct_test = 0\n",
    "total_test = 0\n",
    "\n",
    "all_preds = []\n",
    "all_labels = []\n",
    "\n",
    "# Initialize per-class counters\n",
    "num_classes = len(label_map)\n",
    "class_correct = [0] * num_classes\n",
    "class_total = [0] * num_classes\n",
    "\n",
    "with torch.no_grad():\n",
    "    for test_sequences, test_labels in test_loader:\n",
    "        test_outputs = model(test_sequences)\n",
    "        test_loss = criterion(test_outputs, test_labels)\n",
    "        test_running_loss += test_loss.item() * test_sequences.size(0)\n",
    "\n",
    "        _, predicted = torch.max(test_outputs.data, 1)\n",
    "\n",
    "        total_test += test_labels.size(0)\n",
    "        correct_test += (predicted == test_labels).sum().item()\n",
    "\n",
    "        # Store for confusion matrix/classification report\n",
    "        all_preds.extend(predicted.cpu().numpy())\n",
    "        all_labels.extend(test_labels.cpu().numpy())\n",
    "\n",
    "        # Update per-class accuracy counts\n",
    "        for i in range(len(test_labels)):\n",
    "            label = test_labels[i].item()\n",
    "            pred = predicted[i].item()\n",
    "            class_total[label] += 1\n",
    "            if pred == label:\n",
    "                class_correct[label] += 1\n",
    "\n",
    "# Overall metrics\n",
    "test_accuracy = 100 * correct_test / total_test\n",
    "test_loss = test_running_loss / total_test\n",
    "print(f'Test Loss: {test_loss:.4f}')\n",
    "print(f'Test Accuracy: {test_accuracy:.2f}%')\n",
    "\n",
    "# Per-class (composer) accuracy\n",
    "print(\"\\nPer-Composer Accuracy:\")\n",
    "for i in range(num_classes):\n",
    "    composer = label_map[i]\n",
    "    if class_total[i] > 0:\n",
    "        accuracy = 100 * class_correct[i] / class_total[i]\n",
    "        print(f\"  {composer:15}  Accuracy: {accuracy:.2f}% ({class_correct[i]}/{class_total[i]})\")\n",
    "    else:\n",
    "        print(f\"  {composer:15}  No test samples.\")"
   ]
  },
  {
   "cell_type": "code",
   "execution_count": null,
   "id": "d168dce6-9407-4788-ba8c-cf54cf9fadd4",
   "metadata": {},
   "outputs": [],
   "source": []
  }
 ],
 "metadata": {
  "kernelspec": {
   "display_name": "Python 3 (ipykernel)",
   "language": "python",
   "name": "python3"
  },
  "language_info": {
   "codemirror_mode": {
    "name": "ipython",
    "version": 3
   },
   "file_extension": ".py",
   "mimetype": "text/x-python",
   "name": "python",
   "nbconvert_exporter": "python",
   "pygments_lexer": "ipython3",
   "version": "3.11.10"
  }
 },
 "nbformat": 4,
 "nbformat_minor": 5
}
